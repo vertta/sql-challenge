{
 "cells": [
  {
   "cell_type": "code",
   "execution_count": 1,
   "id": "81e372de",
   "metadata": {},
   "outputs": [],
   "source": [
    "import warnings\n",
    "warnings.filterwarnings('ignore')"
   ]
  },
  {
   "cell_type": "code",
   "execution_count": 2,
   "id": "995bf272",
   "metadata": {},
   "outputs": [],
   "source": [
    "# Python SQL toolkit and Object Relational Mapper, sql\n",
    "import sqlalchemy\n",
    "import pandas as pd\n",
    "\n",
    "from sqlalchemy.ext.automap import automap_base\n",
    "from sqlalchemy.orm import Session\n",
    "from sqlalchemy import create_engine, inspect, func\n",
    "from dotenv import load_dotenv\n",
    "\n",
    "\n",
    "# Import Matplot lib\n",
    "import matplotlib\n",
    "from matplotlib import style\n",
    "style.use('seaborn')\n",
    "import matplotlib.pyplot as plt\n",
    "\n",
    "import psycopg2\n",
    "from dbconnection import connect_string  # make sure that the file is .py "
   ]
  },
  {
   "cell_type": "code",
   "execution_count": 3,
   "id": "e2ec1f4e",
   "metadata": {
    "scrolled": true
   },
   "outputs": [
    {
     "data": {
      "text/plain": [
       "['titles', 'employees', 'dept_emp', 'departments', 'dept_manager', 'salaries']"
      ]
     },
     "execution_count": 3,
     "metadata": {},
     "output_type": "execute_result"
    }
   ],
   "source": [
    "# Create a connection to a SQL database with information in config file\n",
    "\n",
    "engine = create_engine (connect_string)\n",
    "inspector = inspect(engine)\n",
    "inspector.get_table_names()\n"
   ]
  },
  {
   "cell_type": "code",
   "execution_count": 4,
   "id": "a5dd5a54",
   "metadata": {},
   "outputs": [
    {
     "data": {
      "text/plain": [
       "['titles', 'employees', 'departments']"
      ]
     },
     "execution_count": 4,
     "metadata": {},
     "output_type": "execute_result"
    }
   ],
   "source": [
    "# Reflect Database into ORM class\n",
    "Base = automap_base()\n",
    "Base.prepare(engine, reflect=True)\n",
    "Base.classes.keys()"
   ]
  },
  {
   "cell_type": "code",
   "execution_count": 5,
   "id": "86585096",
   "metadata": {},
   "outputs": [],
   "source": [
    "#retrieve data to sow the most common salary range\n",
    "results=engine.execute('SELECT count(salary) as count, round((salary::numeric),0) as salary from salaries group by salary order by count desc limit 10').fetchall()"
   ]
  },
  {
   "cell_type": "code",
   "execution_count": 6,
   "id": "cc72ae59",
   "metadata": {},
   "outputs": [
    {
     "data": {
      "text/html": [
       "<div>\n",
       "<style scoped>\n",
       "    .dataframe tbody tr th:only-of-type {\n",
       "        vertical-align: middle;\n",
       "    }\n",
       "\n",
       "    .dataframe tbody tr th {\n",
       "        vertical-align: top;\n",
       "    }\n",
       "\n",
       "    .dataframe thead th {\n",
       "        text-align: right;\n",
       "    }\n",
       "</style>\n",
       "<table border=\"1\" class=\"dataframe\">\n",
       "  <thead>\n",
       "    <tr style=\"text-align: right;\">\n",
       "      <th></th>\n",
       "      <th>count</th>\n",
       "      <th>salary</th>\n",
       "    </tr>\n",
       "  </thead>\n",
       "  <tbody>\n",
       "    <tr>\n",
       "      <th>0</th>\n",
       "      <td>95346</td>\n",
       "      <td>40000</td>\n",
       "    </tr>\n",
       "    <tr>\n",
       "      <th>1</th>\n",
       "      <td>19</td>\n",
       "      <td>55581</td>\n",
       "    </tr>\n",
       "    <tr>\n",
       "      <th>2</th>\n",
       "      <td>18</td>\n",
       "      <td>53078</td>\n",
       "    </tr>\n",
       "    <tr>\n",
       "      <th>3</th>\n",
       "      <td>18</td>\n",
       "      <td>53738</td>\n",
       "    </tr>\n",
       "    <tr>\n",
       "      <th>4</th>\n",
       "      <td>17</td>\n",
       "      <td>47454</td>\n",
       "    </tr>\n",
       "    <tr>\n",
       "      <th>5</th>\n",
       "      <td>17</td>\n",
       "      <td>45184</td>\n",
       "    </tr>\n",
       "    <tr>\n",
       "      <th>6</th>\n",
       "      <td>17</td>\n",
       "      <td>44564</td>\n",
       "    </tr>\n",
       "    <tr>\n",
       "      <th>7</th>\n",
       "      <td>16</td>\n",
       "      <td>43995</td>\n",
       "    </tr>\n",
       "    <tr>\n",
       "      <th>8</th>\n",
       "      <td>16</td>\n",
       "      <td>49416</td>\n",
       "    </tr>\n",
       "    <tr>\n",
       "      <th>9</th>\n",
       "      <td>16</td>\n",
       "      <td>45050</td>\n",
       "    </tr>\n",
       "  </tbody>\n",
       "</table>\n",
       "</div>"
      ],
      "text/plain": [
       "   count salary\n",
       "0  95346  40000\n",
       "1     19  55581\n",
       "2     18  53078\n",
       "3     18  53738\n",
       "4     17  47454\n",
       "5     17  45184\n",
       "6     17  44564\n",
       "7     16  43995\n",
       "8     16  49416\n",
       "9     16  45050"
      ]
     },
     "execution_count": 6,
     "metadata": {},
     "output_type": "execute_result"
    }
   ],
   "source": [
    "#convert information to dataframe\n",
    "df = pd.DataFrame(results)\n",
    "df\n",
    "\n"
   ]
  },
  {
   "cell_type": "code",
   "execution_count": null,
   "id": "8e0d205e",
   "metadata": {},
   "outputs": [],
   "source": []
  },
  {
   "cell_type": "code",
   "execution_count": 7,
   "id": "62fc4d9e",
   "metadata": {},
   "outputs": [],
   "source": [
    "df.dtypes\n",
    "df = df.astype({'salary':'int'})"
   ]
  },
  {
   "cell_type": "code",
   "execution_count": 8,
   "id": "c057010e",
   "metadata": {},
   "outputs": [
    {
     "data": {
      "image/png": "[encoded data removed]",
      "text/plain": [
       "<Figure size 432x288 with 1 Axes>"
      ]
     },
     "metadata": {
      "needs_background": "light"
     },
     "output_type": "display_data"
    }
   ],
   "source": [
    "#create histogram\n",
    "df.plot(kind=\"hist\", x=\"count\", y=\"salary\")\n",
    "plt.title(\"Most Common Salary Average\")\n",
    "plt.show()"
   ]
  },
  {
   "cell_type": "code",
   "execution_count": 9,
   "id": "1c394d7e",
   "metadata": {
    "scrolled": false
   },
   "outputs": [
    {
     "name": "stdout",
     "output_type": "stream",
     "text": [
      "                title salary\n",
      "0        Senior Staff  58550\n",
      "1               Staff  58465\n",
      "2             Manager  51531\n",
      "3    Technique Leader  48583\n",
      "4  Assistant Engineer  48564\n",
      "5            Engineer  48535\n",
      "6     Senior Engineer  48507\n"
     ]
    }
   ],
   "source": [
    "results2=engine.execute ('select t.title AS title, round(AVG(salary::numeric),0) AS Salary from salaries s inner join employees e  on e.emp_no = s.emp_no inner join titles t on e.title_id = t.title_id group by  title order by salary desc').fetchall()\n",
    "df2=pd.DataFrame(results2)\n",
    "\n",
    "print(df2)                  "
   ]
  },
  {
   "cell_type": "code",
   "execution_count": 10,
   "id": "7ed8d6bc",
   "metadata": {},
   "outputs": [
    {
     "data": {
      "text/plain": [
       "title     object\n",
       "salary    object\n",
       "dtype: object"
      ]
     },
     "execution_count": 10,
     "metadata": {},
     "output_type": "execute_result"
    }
   ],
   "source": [
    "df2.dtypes"
   ]
  },
  {
   "cell_type": "code",
   "execution_count": 11,
   "id": "cbbe0c79",
   "metadata": {},
   "outputs": [],
   "source": [
    "df2 = df2.astype({'salary':'int'})"
   ]
  },
  {
   "cell_type": "code",
   "execution_count": 12,
   "id": "e7d5f021",
   "metadata": {},
   "outputs": [
    {
     "data": {
      "image/png": "[encoded data removed]",
      "text/plain": [
       "<Figure size 432x288 with 1 Axes>"
      ]
     },
     "metadata": {
      "needs_background": "light"
     },
     "output_type": "display_data"
    }
   ],
   "source": [
    "df2.plot(kind=\"barh\", x=\"title\", y=\"salary\")\n",
    "plt.title(\"Average Salary by Title\")\n",
    "plt.show()"
   ]
  }
 ],
 "metadata": {
  "kernelspec": {
   "display_name": "Python 3 (ipykernel)",
   "language": "python",
   "name": "python3"
  },
  "language_info": {
   "codemirror_mode": {
    "name": "ipython",
    "version": 3
   },
   "file_extension": ".py",
   "mimetype": "text/x-python",
   "name": "python",
   "nbconvert_exporter": "python",
   "pygments_lexer": "ipython3",
   "version": "3.9.12"
  }
 },
 "nbformat": 4,
 "nbformat_minor": 5
}
